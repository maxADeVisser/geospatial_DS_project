{
 "cells": [
  {
   "cell_type": "code",
   "execution_count": null,
   "metadata": {},
   "outputs": [],
   "source": [
    "import pandas as pd\n",
    "pd.set_option('display.max_columns', 200) #  max number of columns\n",
    "import geopandas as gpd\n",
    "import contextily as cx"
   ]
  },
  {
   "cell_type": "code",
   "execution_count": null,
   "metadata": {},
   "outputs": [],
   "source": [
    "df = pd.read_csv(\"aisdk-2024-02-18.csv\", parse_dates=[\"# Timestamp\"], index_col=\"# Timestamp\")"
   ]
  },
  {
   "cell_type": "code",
   "execution_count": null,
   "metadata": {},
   "outputs": [],
   "source": [
    "from data_prep import *\n",
    "\n",
    "store_data_file"
   ]
  },
  {
   "cell_type": "code",
   "execution_count": null,
   "metadata": {},
   "outputs": [],
   "source": [
    "df.dtypes"
   ]
  },
  {
   "cell_type": "code",
   "execution_count": null,
   "metadata": {},
   "outputs": [],
   "source": [
    "df.loc[(df['Ship type'] != \"Undefined\") & (df['Ship type'] != \"Other\")].head(25)"
   ]
  },
  {
   "cell_type": "code",
   "execution_count": null,
   "metadata": {},
   "outputs": [],
   "source": [
    "def geo_transform(MMSI: int):\n",
    "    helgoland = df.copy().loc[df[\"MMSI\"] == MMSI]\n",
    "    # map timestamp into datetime object\n",
    "    helgoland[\"# Timestamp\"] = pd.to_datetime(helgoland[\"# Timestamp\"])\n",
    "    helgoland.set_index(\"# Timestamp\", inplace=True)\n",
    "\n",
    "    helgoland = helgoland[['MMSI', 'Latitude', 'Longitude']]\n",
    "    helgoland.resample('10T').mean() # resample data frequency to 10 minutes\n",
    "\n",
    "    helgoland = gpd.GeoDataFrame(helgoland, geometry=gpd.points_from_xy(helgoland.Longitude, helgoland.Latitude))\n",
    "    return helgoland"
   ]
  },
  {
   "cell_type": "code",
   "execution_count": null,
   "metadata": {},
   "outputs": [],
   "source": [
    "ship1 = geo_transform(MMSI=538005405)\n",
    "ship1"
   ]
  },
  {
   "cell_type": "code",
   "execution_count": null,
   "metadata": {},
   "outputs": [],
   "source": [
    "ship1.crs = \"EPSG:3857\""
   ]
  },
  {
   "cell_type": "code",
   "execution_count": null,
   "metadata": {},
   "outputs": [],
   "source": [
    "ship1[1:]"
   ]
  },
  {
   "cell_type": "code",
   "execution_count": null,
   "metadata": {},
   "outputs": [],
   "source": [
    "ship1"
   ]
  },
  {
   "cell_type": "code",
   "execution_count": null,
   "metadata": {},
   "outputs": [],
   "source": [
    "import matplotlib.pyplot as plt\n",
    "f, ax = plt.subplots(1, figsize=(10, 10))\n",
    "ship1[1:].plot(alpha=0.5, ax=ax)\n",
    "\n",
    "ax.set_axis_off()\n",
    "cx.add_basemap(ax, crs=ship1.crs, source=cx.providers.CartoDB.Positron)"
   ]
  }
 ],
 "metadata": {
  "kernelspec": {
   "display_name": "geospatial_DS",
   "language": "python",
   "name": "python3"
  },
  "language_info": {
   "codemirror_mode": {
    "name": "ipython",
    "version": 3
   },
   "file_extension": ".py",
   "mimetype": "text/x-python",
   "name": "python",
   "nbconvert_exporter": "python",
   "pygments_lexer": "ipython3",
   "version": "3.10.7"
  }
 },
 "nbformat": 4,
 "nbformat_minor": 2
}
